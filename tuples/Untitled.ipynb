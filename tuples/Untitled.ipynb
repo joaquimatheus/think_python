{
 "cells": [
  {
   "cell_type": "code",
   "execution_count": 11,
   "id": "caf7fb53",
   "metadata": {},
   "outputs": [
    {
     "data": {
      "text/plain": [
       "('a', 'b', 'c', 'd', 'e')"
      ]
     },
     "execution_count": 11,
     "metadata": {},
     "output_type": "execute_result"
    }
   ],
   "source": [
    "t = 'a', 'b', 'c', 'd', 'e'\n",
    "t"
   ]
  },
  {
   "cell_type": "code",
   "execution_count": 12,
   "id": "52342461",
   "metadata": {},
   "outputs": [
    {
     "data": {
      "text/plain": [
       "('a', 'b', 'c', 'd', 'e')"
      ]
     },
     "execution_count": 12,
     "metadata": {},
     "output_type": "execute_result"
    }
   ],
   "source": [
    "t = ('a', 'b', 'c', 'd', 'e')\n",
    "t"
   ]
  },
  {
   "cell_type": "code",
   "execution_count": 14,
   "id": "fc66df0b",
   "metadata": {},
   "outputs": [
    {
     "data": {
      "text/plain": [
       "tuple"
      ]
     },
     "execution_count": 14,
     "metadata": {},
     "output_type": "execute_result"
    }
   ],
   "source": [
    "t1 = 'a',\n",
    "type(t1)"
   ]
  },
  {
   "cell_type": "code",
   "execution_count": 16,
   "id": "56aedf76",
   "metadata": {},
   "outputs": [
    {
     "data": {
      "text/plain": [
       "str"
      ]
     },
     "execution_count": 16,
     "metadata": {},
     "output_type": "execute_result"
    }
   ],
   "source": [
    "# Um único valor entre parênteses não é uma tupla:\n",
    "t2 = ('a')\n",
    "type(t2)"
   ]
  },
  {
   "cell_type": "code",
   "execution_count": 18,
   "id": "80691dce",
   "metadata": {},
   "outputs": [
    {
     "data": {
      "text/plain": [
       "()"
      ]
     },
     "execution_count": 18,
     "metadata": {},
     "output_type": "execute_result"
    }
   ],
   "source": [
    "t = tuple()\n",
    "t"
   ]
  },
  {
   "cell_type": "code",
   "execution_count": 20,
   "id": "7de780fb",
   "metadata": {},
   "outputs": [
    {
     "data": {
      "text/plain": [
       "('l', 'u', 'p', 'i', 'n', 's')"
      ]
     },
     "execution_count": 20,
     "metadata": {},
     "output_type": "execute_result"
    }
   ],
   "source": [
    "# Se os argumentos forem uma sequência (string, lista ou tupla), \n",
    "# o resultado é uma tupla com os elementos da sequência:\n",
    "t = tuple('lupins')\n",
    "t"
   ]
  },
  {
   "cell_type": "code",
   "execution_count": 22,
   "id": "ad1c6876",
   "metadata": {},
   "outputs": [
    {
     "data": {
      "text/plain": [
       "'l'"
      ]
     },
     "execution_count": 22,
     "metadata": {},
     "output_type": "execute_result"
    }
   ],
   "source": [
    "t[0]"
   ]
  },
  {
   "cell_type": "code",
   "execution_count": 24,
   "id": "6448113f",
   "metadata": {},
   "outputs": [
    {
     "data": {
      "text/plain": [
       "('u', 'p')"
      ]
     },
     "execution_count": 24,
     "metadata": {},
     "output_type": "execute_result"
    }
   ],
   "source": [
    "t[1:3]"
   ]
  },
  {
   "cell_type": "code",
   "execution_count": 26,
   "id": "58dafdfa",
   "metadata": {},
   "outputs": [
    {
     "ename": "TypeError",
     "evalue": "'tuple' object does not support item assignment",
     "output_type": "error",
     "traceback": [
      "\u001b[0;31m---------------------------------------------------------------------------\u001b[0m",
      "\u001b[0;31mTypeError\u001b[0m                                 Traceback (most recent call last)",
      "Cell \u001b[0;32mIn[26], line 1\u001b[0m\n\u001b[0;32m----> 1\u001b[0m \u001b[43mt\u001b[49m\u001b[43m[\u001b[49m\u001b[38;5;241;43m0\u001b[39;49m\u001b[43m]\u001b[49m \u001b[38;5;241m=\u001b[39m \u001b[38;5;124m'\u001b[39m\u001b[38;5;124mA\u001b[39m\u001b[38;5;124m'\u001b[39m\n",
      "\u001b[0;31mTypeError\u001b[0m: 'tuple' object does not support item assignment"
     ]
    }
   ],
   "source": [
    "t[0] = 'A'"
   ]
  },
  {
   "cell_type": "code",
   "execution_count": 29,
   "id": "e9591100",
   "metadata": {},
   "outputs": [
    {
     "data": {
      "text/plain": [
       "('A', 'u', 'p', 'i', 'n', 's')"
      ]
     },
     "execution_count": 29,
     "metadata": {},
     "output_type": "execute_result"
    }
   ],
   "source": [
    "t = ('A',) + t[1:]\n",
    "t"
   ]
  },
  {
   "cell_type": "code",
   "execution_count": 31,
   "id": "cc975f2f",
   "metadata": {},
   "outputs": [
    {
     "data": {
      "text/plain": [
       "True"
      ]
     },
     "execution_count": 31,
     "metadata": {},
     "output_type": "execute_result"
    }
   ],
   "source": [
    "(0, 1 ,2) < (0, 3, 4)"
   ]
  },
  {
   "cell_type": "code",
   "execution_count": 33,
   "id": "d9eec6c1",
   "metadata": {},
   "outputs": [
    {
     "data": {
      "text/plain": [
       "True"
      ]
     },
     "execution_count": 33,
     "metadata": {},
     "output_type": "execute_result"
    }
   ],
   "source": [
    "(0, 1, 2000000) < (0, 3, 4)"
   ]
  },
  {
   "cell_type": "code",
   "execution_count": 40,
   "id": "d0a15704",
   "metadata": {},
   "outputs": [],
   "source": [
    "a, b = (1,2,3), (1,2,3)"
   ]
  },
  {
   "cell_type": "code",
   "execution_count": 43,
   "id": "2a3f4d1c",
   "metadata": {},
   "outputs": [
    {
     "ename": "ValueError",
     "evalue": "too many values to unpack (expected 2)",
     "output_type": "error",
     "traceback": [
      "\u001b[0;31m---------------------------------------------------------------------------\u001b[0m",
      "\u001b[0;31mValueError\u001b[0m                                Traceback (most recent call last)",
      "Cell \u001b[0;32mIn[43], line 3\u001b[0m\n\u001b[1;32m      1\u001b[0m \u001b[38;5;66;03m# O número de variáveis à esquerda e o número de valores \u001b[39;00m\n\u001b[1;32m      2\u001b[0m \u001b[38;5;66;03m# à direita precisam ser iguais:\u001b[39;00m\n\u001b[0;32m----> 3\u001b[0m a, b \u001b[38;5;241m=\u001b[39m \u001b[38;5;241m1\u001b[39m, \u001b[38;5;241m2\u001b[39m, \u001b[38;5;241m3\u001b[39m\n",
      "\u001b[0;31mValueError\u001b[0m: too many values to unpack (expected 2)"
     ]
    }
   ],
   "source": [
    "# O número de variáveis à esquerda e o número de valores \n",
    "# à direita precisam ser iguais:\n",
    "a, b = 1, 2, 3"
   ]
  },
  {
   "cell_type": "code",
   "execution_count": 45,
   "id": "5735572e",
   "metadata": {},
   "outputs": [],
   "source": [
    "addr = 'monty@python.org'\n",
    "uname, domain = addr.split('@')"
   ]
  },
  {
   "cell_type": "code",
   "execution_count": 46,
   "id": "e737a5dd",
   "metadata": {},
   "outputs": [
    {
     "data": {
      "text/plain": [
       "'monty'"
      ]
     },
     "execution_count": 46,
     "metadata": {},
     "output_type": "execute_result"
    }
   ],
   "source": [
    "uname"
   ]
  },
  {
   "cell_type": "code",
   "execution_count": 47,
   "id": "7e9da632",
   "metadata": {},
   "outputs": [
    {
     "data": {
      "text/plain": [
       "'python.org'"
      ]
     },
     "execution_count": 47,
     "metadata": {},
     "output_type": "execute_result"
    }
   ],
   "source": [
    "domain"
   ]
  },
  {
   "cell_type": "code",
   "execution_count": 49,
   "id": "6fa29dba",
   "metadata": {},
   "outputs": [
    {
     "data": {
      "text/plain": [
       "(2, 1)"
      ]
     },
     "execution_count": 49,
     "metadata": {},
     "output_type": "execute_result"
    }
   ],
   "source": [
    "# A função integrada divmod toma dois argumentos e devolve uma tupla de dois valores: o quociente e o resto. \n",
    "# Você pode guardar o resultado como uma tupla:\n",
    "t = divmod(7, 3)\n",
    "t"
   ]
  },
  {
   "cell_type": "code",
   "execution_count": 51,
   "id": "0678f9aa",
   "metadata": {},
   "outputs": [],
   "source": [
    "quot, rem = divmod(7, 3)"
   ]
  },
  {
   "cell_type": "code",
   "execution_count": 52,
   "id": "964d839d",
   "metadata": {},
   "outputs": [
    {
     "data": {
      "text/plain": [
       "2"
      ]
     },
     "execution_count": 52,
     "metadata": {},
     "output_type": "execute_result"
    }
   ],
   "source": [
    "quot"
   ]
  },
  {
   "cell_type": "code",
   "execution_count": 53,
   "id": "0ded36c2",
   "metadata": {},
   "outputs": [
    {
     "data": {
      "text/plain": [
       "1"
      ]
     },
     "execution_count": 53,
     "metadata": {},
     "output_type": "execute_result"
    }
   ],
   "source": [
    "rem"
   ]
  },
  {
   "cell_type": "code",
   "execution_count": 54,
   "id": "7fe00f69",
   "metadata": {},
   "outputs": [],
   "source": [
    "def min_max(t):\n",
    "    return min(t), max(t)"
   ]
  },
  {
   "cell_type": "code",
   "execution_count": 59,
   "id": "c753667e",
   "metadata": {},
   "outputs": [
    {
     "data": {
      "text/plain": [
       "(10, 50)"
      ]
     },
     "execution_count": 59,
     "metadata": {},
     "output_type": "execute_result"
    }
   ],
   "source": [
    "min_max([10, 20, 40, 50])"
   ]
  },
  {
   "cell_type": "code",
   "execution_count": 60,
   "id": "b9e8c51b",
   "metadata": {},
   "outputs": [],
   "source": [
    "mini, maxi = min_max([5, 50, 30, 55])"
   ]
  },
  {
   "cell_type": "code",
   "execution_count": 62,
   "id": "e38c1807",
   "metadata": {},
   "outputs": [
    {
     "data": {
      "text/plain": [
       "5"
      ]
     },
     "execution_count": 62,
     "metadata": {},
     "output_type": "execute_result"
    }
   ],
   "source": [
    "mini"
   ]
  },
  {
   "cell_type": "code",
   "execution_count": 63,
   "id": "b826bed0",
   "metadata": {},
   "outputs": [
    {
     "data": {
      "text/plain": [
       "55"
      ]
     },
     "execution_count": 63,
     "metadata": {},
     "output_type": "execute_result"
    }
   ],
   "source": [
    "maxi"
   ]
  },
  {
   "cell_type": "code",
   "execution_count": 64,
   "id": "adae3d65",
   "metadata": {},
   "outputs": [
    {
     "name": "stdout",
     "output_type": "stream",
     "text": [
      "(1, 2.0, '3')\n"
     ]
    }
   ],
   "source": [
    "def printall(*args):\n",
    "    print(args)\n",
    "    \n",
    "printall(1, 2.0, '3')"
   ]
  },
  {
   "cell_type": "code",
   "execution_count": 66,
   "id": "f42a1e81",
   "metadata": {},
   "outputs": [
    {
     "ename": "TypeError",
     "evalue": "divmod expected 2 arguments, got 1",
     "output_type": "error",
     "traceback": [
      "\u001b[0;31m---------------------------------------------------------------------------\u001b[0m",
      "\u001b[0;31mTypeError\u001b[0m                                 Traceback (most recent call last)",
      "Cell \u001b[0;32mIn[66], line 2\u001b[0m\n\u001b[1;32m      1\u001b[0m t \u001b[38;5;241m=\u001b[39m (\u001b[38;5;241m7\u001b[39m,\u001b[38;5;241m3\u001b[39m)\n\u001b[0;32m----> 2\u001b[0m \u001b[38;5;28;43mdivmod\u001b[39;49m\u001b[43m(\u001b[49m\u001b[43mt\u001b[49m\u001b[43m)\u001b[49m\n",
      "\u001b[0;31mTypeError\u001b[0m: divmod expected 2 arguments, got 1"
     ]
    }
   ],
   "source": [
    "t = (7,3)\n",
    "divmod(t)"
   ]
  },
  {
   "cell_type": "code",
   "execution_count": 67,
   "id": "dceb13a1",
   "metadata": {},
   "outputs": [
    {
     "data": {
      "text/plain": [
       "(2, 1)"
      ]
     },
     "execution_count": 67,
     "metadata": {},
     "output_type": "execute_result"
    }
   ],
   "source": [
    "divmod(*t)"
   ]
  },
  {
   "cell_type": "code",
   "execution_count": 69,
   "id": "73dcf509",
   "metadata": {},
   "outputs": [
    {
     "data": {
      "text/plain": [
       "3"
      ]
     },
     "execution_count": 69,
     "metadata": {},
     "output_type": "execute_result"
    }
   ],
   "source": [
    "max(1, 2, 3)"
   ]
  },
  {
   "cell_type": "code",
   "execution_count": 87,
   "id": "9b76c689",
   "metadata": {},
   "outputs": [],
   "source": [
    "def sum_all(*t):\n",
    "    return sum(t)"
   ]
  },
  {
   "cell_type": "code",
   "execution_count": 89,
   "id": "fa1603d5",
   "metadata": {},
   "outputs": [
    {
     "data": {
      "text/plain": [
       "90"
      ]
     },
     "execution_count": 89,
     "metadata": {},
     "output_type": "execute_result"
    }
   ],
   "source": [
    "sum_all(10, 30, 50)"
   ]
  },
  {
   "cell_type": "code",
   "execution_count": 91,
   "id": "491232b5",
   "metadata": {},
   "outputs": [
    {
     "data": {
      "text/plain": [
       "<zip at 0x7f80946e2580>"
      ]
     },
     "execution_count": 91,
     "metadata": {},
     "output_type": "execute_result"
    }
   ],
   "source": [
    "s = 'abc'\n",
    "t = [0,1,2]\n",
    "zip(s, t)"
   ]
  },
  {
   "cell_type": "code",
   "execution_count": 93,
   "id": "87f0aeca",
   "metadata": {},
   "outputs": [
    {
     "name": "stdout",
     "output_type": "stream",
     "text": [
      "('a', 0)\n",
      "('b', 1)\n",
      "('c', 2)\n"
     ]
    }
   ],
   "source": [
    "for pair in zip(s,t):\n",
    "    print(pair)"
   ]
  },
  {
   "cell_type": "code",
   "execution_count": 95,
   "id": "a24b55fb",
   "metadata": {},
   "outputs": [
    {
     "data": {
      "text/plain": [
       "[('a', 0), ('b', 1), ('c', 2)]"
      ]
     },
     "execution_count": 95,
     "metadata": {},
     "output_type": "execute_result"
    }
   ],
   "source": [
    "list(zip(s,t))"
   ]
  },
  {
   "cell_type": "code",
   "execution_count": 97,
   "id": "af5f723e",
   "metadata": {},
   "outputs": [
    {
     "name": "stdout",
     "output_type": "stream",
     "text": [
      "0 a\n",
      "1 b\n",
      "2 c\n"
     ]
    }
   ],
   "source": [
    "t = [('a', 0), ('b', 1), ('c', 2)]\n",
    "for letter, number in t:\n",
    "    print(number, letter)"
   ]
  },
  {
   "cell_type": "code",
   "execution_count": 98,
   "id": "dbe261f3",
   "metadata": {},
   "outputs": [],
   "source": [
    "def has_match(t1, t2):\n",
    "    for x,y in zip(t1, t2):\n",
    "        if x == y:\n",
    "            return True\n",
    "    return False"
   ]
  },
  {
   "cell_type": "code",
   "execution_count": 103,
   "id": "d24a680d",
   "metadata": {},
   "outputs": [
    {
     "data": {
      "text/plain": [
       "False"
      ]
     },
     "execution_count": 103,
     "metadata": {},
     "output_type": "execute_result"
    }
   ],
   "source": [
    "t1 = [('a', 0), ('b', 1), ('c', 2)]\n",
    "t2 = [('b', 0), ('c', 1), ('a', 2)]\n",
    "\n",
    "has_match(t1, t2)"
   ]
  },
  {
   "cell_type": "code",
   "execution_count": 107,
   "id": "2ab87c3a",
   "metadata": {},
   "outputs": [
    {
     "data": {
      "text/plain": [
       "True"
      ]
     },
     "execution_count": 107,
     "metadata": {},
     "output_type": "execute_result"
    }
   ],
   "source": [
    "t2 = t1\n",
    "has_match(t1, t2)"
   ]
  },
  {
   "cell_type": "code",
   "execution_count": 109,
   "id": "9e02b1d6",
   "metadata": {},
   "outputs": [
    {
     "name": "stdout",
     "output_type": "stream",
     "text": [
      "0 a\n",
      "1 b\n",
      "2 c\n"
     ]
    }
   ],
   "source": [
    "for i, el in enumerate('abc'):\n",
    "    print(i, el)"
   ]
  },
  {
   "cell_type": "code",
   "execution_count": 111,
   "id": "4148fb25",
   "metadata": {},
   "outputs": [
    {
     "data": {
      "text/plain": [
       "dict_items([('a', 0), ('b', 1), ('c', 2)])"
      ]
     },
     "execution_count": 111,
     "metadata": {},
     "output_type": "execute_result"
    }
   ],
   "source": [
    "d = {'a':0, 'b':1, 'c':2}\n",
    "t = d.items()\n",
    "t"
   ]
  },
  {
   "cell_type": "code",
   "execution_count": 113,
   "id": "67c1b51c",
   "metadata": {},
   "outputs": [
    {
     "name": "stdout",
     "output_type": "stream",
     "text": [
      "a 0\n",
      "b 1\n",
      "c 2\n"
     ]
    }
   ],
   "source": [
    "for key, val in d.items():\n",
    "    print(key, val)"
   ]
  },
  {
   "cell_type": "code",
   "execution_count": 118,
   "id": "54172279",
   "metadata": {},
   "outputs": [
    {
     "data": {
      "text/plain": [
       "{'a': 0, 'c': 2, 'b': 1}"
      ]
     },
     "execution_count": 118,
     "metadata": {},
     "output_type": "execute_result"
    }
   ],
   "source": [
    "# Indo em outra direção, você pode usar uma lista de tuplas para \n",
    "# inicializar um novo dicionário:\n",
    "t = [('a', 0), ('c', 2), ('b', 1)]\n",
    "d = dict(t)\n",
    "d"
   ]
  },
  {
   "cell_type": "code",
   "execution_count": 119,
   "id": "85bdec61",
   "metadata": {},
   "outputs": [
    {
     "data": {
      "text/plain": [
       "{'a': 0, 'b': 1, 'c': 2}"
      ]
     },
     "execution_count": 119,
     "metadata": {},
     "output_type": "execute_result"
    }
   ],
   "source": [
    "d = dict(zip('abc', range(3)))\n",
    "d"
   ]
  }
 ],
 "metadata": {
  "kernelspec": {
   "display_name": "Python 3 (ipykernel)",
   "language": "python",
   "name": "python3"
  },
  "language_info": {
   "codemirror_mode": {
    "name": "ipython",
    "version": 3
   },
   "file_extension": ".py",
   "mimetype": "text/x-python",
   "name": "python",
   "nbconvert_exporter": "python",
   "pygments_lexer": "ipython3",
   "version": "3.10.9"
  }
 },
 "nbformat": 4,
 "nbformat_minor": 5
}
