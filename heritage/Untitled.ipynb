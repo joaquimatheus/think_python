{
 "cells": [
  {
   "cell_type": "code",
   "execution_count": 52,
   "id": "d8c2fbe7",
   "metadata": {},
   "outputs": [],
   "source": [
    "class Card:\n",
    "    \"\"\"Represent a standard playing card.\"\"\"\n",
    "    def __init__(self, suit=0, rank=2):\n",
    "        self.suit = suit\n",
    "        self.rank = rank\n",
    "    \n",
    "    suit_names = [\"Clubs\", \"Diamonds\", \"Hearts\", \"Spades\"]\n",
    "    rank_names = [None, 'Ace', '2', '3', '4', '5', '6', '7',\n",
    "                 '8', '9', '10', 'Jack', 'Queen', 'King']\n",
    "    \n",
    "    def __str__(self):\n",
    "        return '%s of %s' % (Card.rank_names[self.rank],\n",
    "                            Card.suit_names[self.suit])\n",
    "    \n",
    "    def __lt__(self, other):\n",
    "        # conferir os naipes\n",
    "        t1 = self.suit, self.rank\n",
    "        t2 = other.suit, other.rank\n",
    "        return t1 < t2"
   ]
  },
  {
   "cell_type": "code",
   "execution_count": 68,
   "id": "4b6dba91",
   "metadata": {},
   "outputs": [],
   "source": [
    "class Deck:\n",
    "    def __init__(self):\n",
    "        self.cards = []\n",
    "        for suit in range(4):\n",
    "            for rank in range(1, 14):\n",
    "                card = Card(suit, rank)\n",
    "                self.cards.append(card)\n",
    "                \n",
    "    def __str__(self):\n",
    "        res = []\n",
    "        for card in self.cards:\n",
    "            res.append(str(card))\n",
    "        return '\\n'.join(res)\n",
    "    \n",
    "    def pop_card(self):\n",
    "        return self.cards.pop()\n",
    "    \n",
    "    def add_card(self, card):\n",
    "        self.cards.append(card)\n",
    "        \n",
    "    def shuffle(self):\n",
    "        random.shuffle(self.cards)\n",
    "        \n",
    "    def move_cards(self, hand, num):\n",
    "        for i in range(num):\n",
    "            hand.add_card(self.pop_card())"
   ]
  },
  {
   "cell_type": "code",
   "execution_count": 63,
   "id": "bd2e5011",
   "metadata": {},
   "outputs": [],
   "source": [
    "class Hand(Deck):\n",
    "    def __init__(self, label=''):\n",
    "        self.cards = []\n",
    "        self.label = label"
   ]
  },
  {
   "cell_type": "code",
   "execution_count": 64,
   "id": "520a6f21",
   "metadata": {},
   "outputs": [
    {
     "data": {
      "text/plain": [
       "[]"
      ]
     },
     "execution_count": 64,
     "metadata": {},
     "output_type": "execute_result"
    }
   ],
   "source": [
    "hand = Hand('new hand')\n",
    "hand.cards"
   ]
  },
  {
   "cell_type": "code",
   "execution_count": 65,
   "id": "25556565",
   "metadata": {},
   "outputs": [
    {
     "data": {
      "text/plain": [
       "'new hand'"
      ]
     },
     "execution_count": 65,
     "metadata": {},
     "output_type": "execute_result"
    }
   ],
   "source": [
    "hand.label"
   ]
  },
  {
   "cell_type": "code",
   "execution_count": 66,
   "id": "7e0e7b25",
   "metadata": {},
   "outputs": [],
   "source": [
    "deck = Deck()\n",
    "card = deck.pop_card()\n",
    "hand.add_card(card)"
   ]
  },
  {
   "cell_type": "code",
   "execution_count": 67,
   "id": "bc0dfc40",
   "metadata": {},
   "outputs": [
    {
     "name": "stdout",
     "output_type": "stream",
     "text": [
      "King of Spades\n"
     ]
    }
   ],
   "source": [
    "print(hand)"
   ]
  },
  {
   "cell_type": "code",
   "execution_count": 70,
   "id": "c333bf1f",
   "metadata": {},
   "outputs": [],
   "source": [
    "class Markov:\n",
    "    def __init__(self):\n",
    "        self.suffix_map = {}\n",
    "        self.prefix = ()\n",
    "        \n",
    "    def process_word(self, word, order=2):\n",
    "        if len(self.prefix) < order:\n",
    "            self.prefix += (word)\n",
    "            return\n",
    "        try:\n",
    "            self.suffix_map[self.prefix].append(word)\n",
    "        except KeyError:\n",
    "            self.suffix_map[self.prefix] = [word]\n",
    "            \n",
    "        self.prefix = shift(self.prefix, word)"
   ]
  },
  {
   "cell_type": "code",
   "execution_count": null,
   "id": "3130053e",
   "metadata": {},
   "outputs": [],
   "source": []
  }
 ],
 "metadata": {
  "kernelspec": {
   "display_name": "Python 3 (ipykernel)",
   "language": "python",
   "name": "python3"
  },
  "language_info": {
   "codemirror_mode": {
    "name": "ipython",
    "version": 3
   },
   "file_extension": ".py",
   "mimetype": "text/x-python",
   "name": "python",
   "nbconvert_exporter": "python",
   "pygments_lexer": "ipython3",
   "version": "3.10.9"
  }
 },
 "nbformat": 4,
 "nbformat_minor": 5
}
