{
 "cells": [
  {
   "cell_type": "code",
   "execution_count": 1,
   "id": "868cf23a",
   "metadata": {},
   "outputs": [],
   "source": [
    "class Time:\n",
    "    \"\"\"Represents the time of day.\"\"\""
   ]
  },
  {
   "cell_type": "code",
   "execution_count": 2,
   "id": "56d52573",
   "metadata": {},
   "outputs": [],
   "source": [
    "def print_time(time):\n",
    "    print('%.2d:%.2d:%.2d' % (time.hour, time.minute, time.second))"
   ]
  },
  {
   "cell_type": "code",
   "execution_count": 3,
   "id": "fdd947f6",
   "metadata": {},
   "outputs": [
    {
     "name": "stdout",
     "output_type": "stream",
     "text": [
      "09:45:00\n"
     ]
    }
   ],
   "source": [
    "start = Time()\n",
    "start.hour = 9\n",
    "start.minute = 45\n",
    "start.second = 0\n",
    "print_time(start)"
   ]
  },
  {
   "cell_type": "code",
   "execution_count": 4,
   "id": "d0538848",
   "metadata": {},
   "outputs": [],
   "source": [
    "class Time:\n",
    "    def print_time(time):\n",
    "        print('%.2d:%.2d:%.2d' % (time.hour, time.minute, time.second))"
   ]
  },
  {
   "cell_type": "code",
   "execution_count": 5,
   "id": "0b90577e",
   "metadata": {},
   "outputs": [
    {
     "name": "stdout",
     "output_type": "stream",
     "text": [
      "09:45:00\n"
     ]
    }
   ],
   "source": [
    "Time.print_time(start)"
   ]
  },
  {
   "cell_type": "code",
   "execution_count": 7,
   "id": "c606b3c3",
   "metadata": {},
   "outputs": [],
   "source": [
    "start = Time()"
   ]
  },
  {
   "cell_type": "code",
   "execution_count": 9,
   "id": "f7b033f3",
   "metadata": {},
   "outputs": [
    {
     "name": "stdout",
     "output_type": "stream",
     "text": [
      "09:45:00\n"
     ]
    }
   ],
   "source": [
    "start.hour = 9\n",
    "start.minute = 45\n",
    "start.second = 0\n",
    "print_time(start)"
   ]
  },
  {
   "cell_type": "code",
   "execution_count": 57,
   "id": "d3b50078",
   "metadata": {},
   "outputs": [],
   "source": [
    "class Time:\n",
    "    def print_time(self):\n",
    "        print('%.2d:%.2d:%.2d' % (self.hour, self.minute, self.second))\n",
    "        \n",
    "    def time_to_int(self):\n",
    "        minutes = self.hour * 60 + self.minute\n",
    "        seconds = minutes * 60 + self.second\n",
    "        return seconds\n",
    "    \n",
    "    def int_to_time(self, seconds):\n",
    "        minutes, self.second = divmod(seconds, 60)\n",
    "        self.hour, self.minute = divmod(minutes, 60)\n",
    "        return self\n",
    "    \n",
    "    def increment(self, seconds):\n",
    "        seconds += self.time_to_int()\n",
    "        return self.int_to_time(seconds)\n",
    "    \n",
    "    def is_after(self, other):\n",
    "        return self.time_to_int() > other.time_to_int()"
   ]
  },
  {
   "cell_type": "code",
   "execution_count": 53,
   "id": "2b9aa4f4",
   "metadata": {},
   "outputs": [
    {
     "name": "stdout",
     "output_type": "stream",
     "text": [
      "09:45:00\n",
      "09:45:00\n"
     ]
    }
   ],
   "source": [
    "start = Time()\n",
    "\n",
    "start.hour = 9\n",
    "start.minute = 45\n",
    "start.second = 0\n",
    "print_time(start)\n",
    "\n",
    "start.print_time()"
   ]
  },
  {
   "cell_type": "code",
   "execution_count": 54,
   "id": "f06b0185",
   "metadata": {},
   "outputs": [],
   "source": [
    "end = start.increment(1337)"
   ]
  },
  {
   "cell_type": "code",
   "execution_count": 56,
   "id": "2ac322fa",
   "metadata": {},
   "outputs": [
    {
     "name": "stdout",
     "output_type": "stream",
     "text": [
      "10:07:17\n"
     ]
    }
   ],
   "source": [
    "end.print_time()"
   ]
  }
 ],
 "metadata": {
  "kernelspec": {
   "display_name": "Python 3 (ipykernel)",
   "language": "python",
   "name": "python3"
  },
  "language_info": {
   "codemirror_mode": {
    "name": "ipython",
    "version": 3
   },
   "file_extension": ".py",
   "mimetype": "text/x-python",
   "name": "python",
   "nbconvert_exporter": "python",
   "pygments_lexer": "ipython3",
   "version": "3.10.9"
  }
 },
 "nbformat": 4,
 "nbformat_minor": 5
}
