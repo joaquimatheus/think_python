{
 "cells": [
  {
   "cell_type": "code",
   "execution_count": 3,
   "id": "d4cb8c55",
   "metadata": {},
   "outputs": [],
   "source": [
    "class Time:\n",
    "    \"\"\"\n",
    "    Represents the time of day.\n",
    "    Attributes: hour, minute, second\n",
    "    \"\"\""
   ]
  },
  {
   "cell_type": "code",
   "execution_count": 4,
   "id": "b5644338",
   "metadata": {},
   "outputs": [],
   "source": [
    "time = Time()\n",
    "time.hour = 11\n",
    "time.minute = 59\n",
    "time.second = 30\n",
    "\n",
    "time2 = Time()\n",
    "time2.hour = 3\n",
    "time2.minute = 5\n",
    "time2.second = 1"
   ]
  },
  {
   "cell_type": "code",
   "execution_count": 5,
   "id": "b00a243e",
   "metadata": {},
   "outputs": [],
   "source": [
    "def print_time(t):\n",
    "    print('%.2d:%.2d:%.2d' % (t.hour, t.minute, t.second))"
   ]
  },
  {
   "cell_type": "code",
   "execution_count": 11,
   "id": "411b9cbf",
   "metadata": {},
   "outputs": [
    {
     "name": "stdout",
     "output_type": "stream",
     "text": [
      "03:05:01\n"
     ]
    }
   ],
   "source": [
    "print_time(time2)"
   ]
  },
  {
   "cell_type": "code",
   "execution_count": 13,
   "id": "7b479609",
   "metadata": {},
   "outputs": [
    {
     "name": "stdout",
     "output_type": "stream",
     "text": [
      "11:59:30\n"
     ]
    }
   ],
   "source": [
    "print_time(time)"
   ]
  },
  {
   "cell_type": "code",
   "execution_count": 9,
   "id": "3c336f60",
   "metadata": {},
   "outputs": [],
   "source": [
    "def is_after(t1,t2):\n",
    "    # Convert all the number to miliseconds\n",
    "    time_sec_ms_1 = t1.second * 1000\n",
    "    time_min_ms_1 = t1.minute * 60000\n",
    "    time_hour_ms_1 = t2.hour * 60 ** 2 * 1000\n",
    "    \n",
    "    time_sec_ms_2 = t2.second * 1000\n",
    "    time_min_ms_2 = t2.minute * 60000\n",
    "    time_hour_ms_2 = t2.hour * 60 ** 2 * 1000\n",
    "    \n",
    "    some_1 = time_sec_ms_1 + time_min_ms_1 + time_hour_ms_1\n",
    "    some_2 = time_sec_ms_2 + time_min_ms_2 + time_hour_ms_2\n",
    "    \n",
    "    return some_1 > some_2"
   ]
  },
  {
   "cell_type": "code",
   "execution_count": 10,
   "id": "694f5529",
   "metadata": {},
   "outputs": [
    {
     "data": {
      "text/plain": [
       "True"
      ]
     },
     "execution_count": 10,
     "metadata": {},
     "output_type": "execute_result"
    }
   ],
   "source": [
    "is_after(time, time2)"
   ]
  },
  {
   "cell_type": "code",
   "execution_count": 14,
   "id": "46ca1564",
   "metadata": {},
   "outputs": [],
   "source": [
    "def add_time(t1, t2):\n",
    "    sum = Time()\n",
    "    sum.hour = t1.hour + t2.hour\n",
    "    sum.minute = t1.minute + t2.minute\n",
    "    sum.second = t1.second + t2.second\n",
    "    \n",
    "    return sum"
   ]
  },
  {
   "cell_type": "code",
   "execution_count": 15,
   "id": "a0815b8b",
   "metadata": {},
   "outputs": [],
   "source": [
    "start = Time()"
   ]
  },
  {
   "cell_type": "code",
   "execution_count": 16,
   "id": "bbc4edb1",
   "metadata": {},
   "outputs": [
    {
     "name": "stdout",
     "output_type": "stream",
     "text": [
      "10:80:00\n"
     ]
    }
   ],
   "source": [
    "start.hour = 9\n",
    "start.minute = 45\n",
    "start.second = 0\n",
    "duration = Time()\n",
    "duration.hour = 1\n",
    "duration.minute = 35\n",
    "duration.second = 0\n",
    "done = add_time(start, duration)\n",
    "print_time(done)"
   ]
  },
  {
   "cell_type": "code",
   "execution_count": 17,
   "id": "0f8a5b7b",
   "metadata": {},
   "outputs": [],
   "source": [
    "def add_time(t1, t2):\n",
    "    sum = Time()\n",
    "    sum.hour = t1.hour + t2.hour\n",
    "    sum.minute = t1.minute + t2.minute\n",
    "    sum.second = t1.second + t2.second\n",
    "    \n",
    "    if sum.second >= 60:\n",
    "        sum.second -= 60\n",
    "        sum.minute += 1\n",
    "    if sum.minute >= 60:\n",
    "        sum.minute -= 60\n",
    "        sum.hour += 1\n",
    "    return sum"
   ]
  },
  {
   "cell_type": "code",
   "execution_count": 18,
   "id": "946a0b3a",
   "metadata": {},
   "outputs": [
    {
     "name": "stdout",
     "output_type": "stream",
     "text": [
      "11:20:00\n"
     ]
    }
   ],
   "source": [
    "done = add_time(start, duration)\n",
    "print_time(done)"
   ]
  },
  {
   "cell_type": "code",
   "execution_count": 57,
   "id": "f511483c",
   "metadata": {},
   "outputs": [
    {
     "name": "stdout",
     "output_type": "stream",
     "text": [
      "01:37:00\n"
     ]
    }
   ],
   "source": [
    "print_time(duration)"
   ]
  },
  {
   "cell_type": "code",
   "execution_count": 63,
   "id": "e2b9db38",
   "metadata": {},
   "outputs": [],
   "source": [
    "def increment(time, seconds):\n",
    "    time.second += seconds\n",
    "    if time.second >= 60:\n",
    "        time.second = seconds % 60\n",
    "        time.minute += seconds // 60\n",
    "    \n",
    "    if time.minute >= 60:\n",
    "        time.minute -= 60\n",
    "        time.hour += 1\n",
    "        \n",
    "    return time"
   ]
  },
  {
   "cell_type": "code",
   "execution_count": 64,
   "id": "d1b0d420",
   "metadata": {},
   "outputs": [],
   "source": [
    "a =increment(duration, 130)"
   ]
  },
  {
   "cell_type": "code",
   "execution_count": 65,
   "id": "beae874c",
   "metadata": {},
   "outputs": [
    {
     "name": "stdout",
     "output_type": "stream",
     "text": [
      "01:42:10\n"
     ]
    }
   ],
   "source": [
    "print_time(a)"
   ]
  },
  {
   "cell_type": "code",
   "execution_count": null,
   "id": "7c6e2438",
   "metadata": {},
   "outputs": [],
   "source": []
  }
 ],
 "metadata": {
  "kernelspec": {
   "display_name": "Python 3 (ipykernel)",
   "language": "python",
   "name": "python3"
  },
  "language_info": {
   "codemirror_mode": {
    "name": "ipython",
    "version": 3
   },
   "file_extension": ".py",
   "mimetype": "text/x-python",
   "name": "python",
   "nbconvert_exporter": "python",
   "pygments_lexer": "ipython3",
   "version": "3.10.9"
  }
 },
 "nbformat": 4,
 "nbformat_minor": 5
}
